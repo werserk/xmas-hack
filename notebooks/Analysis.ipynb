{
 "cells": [
  {
   "cell_type": "markdown",
   "source": [
    "# 1. Data analysis"
   ],
   "metadata": {
    "collapsed": false
   }
  },
  {
   "cell_type": "code",
   "execution_count": 1,
   "outputs": [],
   "source": [
    "import json\n",
    "\n",
    "# read classes.json\n",
    "with open('data/classes.json', encoding='utf-8') as f:\n",
    "    data = {key: value.split('/')[-1] for (key, value) in json.load(f).items()}"
   ],
   "metadata": {
    "collapsed": false
   }
  },
  {
   "cell_type": "code",
   "execution_count": 2,
   "outputs": [
    {
     "data": {
      "text/plain": "['Договоры оказания услуг',\n 'Договоры купли-продажи',\n 'Договоры аренды',\n 'Договоры поставки',\n 'Договоры подряда']"
     },
     "execution_count": 2,
     "metadata": {},
     "output_type": "execute_result"
    }
   ],
   "source": [
    "# from doc: class format to class: [doc1, doc2, ...] format\n",
    "all_labels = []\n",
    "for key, value in data.items():\n",
    "    all_labels.append(value)\n",
    "all_labels = list(set(all_labels))\n",
    "all_labels"
   ],
   "metadata": {
    "collapsed": false
   }
  },
  {
   "cell_type": "code",
   "execution_count": 3,
   "outputs": [
    {
     "data": {
      "text/plain": "{'Договоры оказания услуг': ['35b6a0f57d909507c5aa9a8972b15f35.pdf',\n  'f28d4a853be12515dae73a5912bc5b41.doc',\n  '2c758805e2917306e6cbb079e2adcfcf.rtf',\n  '4db6b233fda895c3bffcb5fdc5b8e1de.rtf',\n  '18d573815c15b4e798bdfbfb52fb2f43.docx',\n  'd54c0b06162cf7cf57e8b1e7356aa204.doc',\n  'a69f5a60f3fd9a081cb0528dd461be45.doc',\n  '41b36e9a90f36be9ed2a2b4f44e5c848.doc',\n  'b19a67817142ea9f2231aa63dfd2981c.docx',\n  '317e4552102e82bd9e17ba1205cd4367.docx',\n  '67170dee29deff9bc80087a94aef7ea4.doc',\n  'cbf3217807791a37499a7b8d94616fdc.doc',\n  '259b481366842141111305897cce7486.docx',\n  '6df1c02e4f9adaa9b87126dc3cb2d72b.doc',\n  'eddc39f5f675890f285014c886bf22c9.doc',\n  '2351cf256df1b683a425211c1ed0e848.doc',\n  '85a65ecc4763c760f914382d6e26b1f1.doc',\n  'e3f3df754bdf7578a71b7a9fa1500ad9.rtf',\n  '0b4be82b86eff410d69d1d6b5553d220.docx',\n  '736cc87395089b9611b0db70d2999d75.pdf',\n  '7ce2d613ac62ec5e4ef3d988c1f91582.doc',\n  '2060962a8b7ca4c45dc041c3f624225a.doc',\n  'b95bbf14eb26ac912b1339e321cbca34.doc',\n  '910ccf7c9b029846e4390ddac5f8d687.doc',\n  '82b672721c50b8897a3cf7c98c0d8e0c.rtf',\n  '81a64023bdb74032827385d43181ea3a.pdf',\n  '6cd62be718ceb49408c49e00e7b12a5e.doc',\n  'f8eabec67b770c384d84f9feb7e02543.doc',\n  'f96c2a58215aa54aeb6713cbb457fad9.doc',\n  '02682d726b725f95b9ee85f751c043d0.doc',\n  '62e280b12c607701866006e37ad990a5.doc',\n  'd0e8ce466209873b70ddfdbacf0eef71.doc'],\n 'Договоры купли-продажи': ['15e3d16cf68646b3383d386aae2a6849.doc',\n  '073a0d372820c3c2bffe9ba24a7ed7af.doc',\n  '2054a58154349bc54b691666fe3f89b1.pdf',\n  '5262e9c377c3ab1f6b8141762cca69ad.doc',\n  '4a5707e447271a188a1211606b158a94.pdf',\n  '91ba127aad1b88905603ecc3aacac0d1.doc',\n  'abcec818adbe358f8071a75e0fe2cc49.pdf',\n  '137eaaa047f557233943012897e46cec.doc',\n  'a2f8675b6d37b6af819ca3fdbb0e3432.pdf',\n  '31d24c0d4694e7c2fb19933b84414b40.doc',\n  '8c5ce9a193c788cadf94ddec5607f3b4.docx',\n  '86d6d0062e91651ccc3d3ce35b162bf8.doc',\n  '086ad48895d2a73854b6151decc28800.pdf',\n  'bd9b731375abcdb9969af05ec9fb03fa.doc',\n  'a543a2a59bd604ad1224040b14844b49.docx',\n  '34f5456e56beb78b311728f738167d3a.doc',\n  'ff6882cb4a3ec31dec18a94e1d1745b1.doc',\n  'c7a0230f5a8e1cbe7a6bec435b71a43c.docx',\n  'f57fe87f15a6dee2b17e804421be63b5.pdf',\n  '1ea8809d696a4bd6a2076fbc6fd28c23.doc',\n  '57962abd8dbe0ce0c7056896ee4501f1.doc',\n  '2c81df29db63aebf495106881a52188f.doc',\n  '0ca2f9faecdbc67d6686a9f5b6636eba.doc'],\n 'Договоры аренды': ['a40a0347f0a91f2537ccc67c46d883b7.doc',\n  '2b25ecf601a9ce0c2a33c8e1d9746df2.doc',\n  'ef140e96384a29057445d0a889f1ad50.doc',\n  'bdfb262c00991dddebfc5d4a87604284.doc',\n  '3588ff6fb8f5c5a5f70196500198ca3a.doc',\n  '123c9dd7b2736589f1f286d2112bc4eb.doc',\n  'cf89a65d4477656ec05262ae55bb6aaa.doc',\n  '616d4446e85de23f29337a6e089c67cb.doc',\n  '2d4708c800dc003466fa9a8a64e2e2b7.docx',\n  '82e5f04228e8d6768de9e4a4c565e89f.doc',\n  '317dc2690741c169db9dc901ff5a3258.docx',\n  '5e9754740f6c89a96cf5996404ec3c27.doc',\n  '855c8450351c98a25ea2ac22a0256c7f.doc',\n  'a8a9861b63d26f13f0f10a075158b6da.doc',\n  '58c8976ca35aa805aa9d21246d5d18ee.doc',\n  '7e0cf1019baa9e1cdabcfc06d522d424.doc',\n  '242b138fd2025b7a5207876098355e03.docx',\n  'e6a6d61368866475f346f078cf2cbe60.doc',\n  'dda3ea2dc3a078682620f926a54aa0bf.doc',\n  '97d4cf03b88c9e040557ab1b61e2e7a2.doc',\n  'f3734851311f2a7ac6c66ad7ccbe1d2c.doc',\n  '99a11e3e403b7c8b0773108a84839517.doc',\n  '084edc7dfc3db04e3a3c55c102f47bcb.doc'],\n 'Договоры поставки': ['5908cb5da047d6c9e6dfea6337fb3189.doc',\n  '14711e4fc8e56f0c75856c8837ec04cb.doc',\n  '7eb67b5aecf3f3190aab0a5f8ea32172.docx',\n  'b40a9d048b199d5f4db62a6a2335f2a0.pdf',\n  '84fec112d02288861e7af59f468131fb.docx',\n  'f6377999f8a5aa9a09b03e428ac93153.doc',\n  'a525f050cef10dee3a42468daec064ff.doc',\n  'bec0aa38d1383172690a18d16b07f154.doc',\n  '214d620d9c54bc83111277dd872d3cb2.pdf',\n  'd143c89d002fcef3e2bd2efdb4966f55.doc',\n  '2fd747f38e30ae7ce1c9d6e3b907ac5d.doc',\n  '4c2c295e81f4a6c3e669e8f76c6ce423.docx',\n  '64f58bc6e1207a570a38d771609b2cf1.docx',\n  '7ecd641f2ad81961c17455ed3ebeb2ab.doc',\n  '4e583dc5a5f1499fd2408f3152589f2d.doc',\n  '79104075f8b2ff971d51c495e67af52c.pdf',\n  '19e2becdb0f10e1c16a5a2460f3a84a2.pdf',\n  '0f7f507d0af90aba3c35484de016d8b4.doc',\n  '69ab7557dee21939aa7432b23a54cb2b.doc',\n  '8b82f3c800e486d9da9a13c98f7a40d6.doc',\n  '856860329f573bbaf158e1eafa885ba5.docx'],\n 'Договоры подряда': ['6b18c046e7ccfdaf9123c11980f56c35.doc',\n  '641282d3072e91ab05c97110e0340020.docx',\n  '49bce5af1c98cd017a310ea8edd3e55b.doc',\n  '7a120d4c7cec157324effa671e2d0812.docx',\n  '7aff676ead9fe323b2c542e60accb1ae.doc',\n  'b7acf29be1d3e4b9cb529683e676fadb.doc',\n  '6babd660f1a9192017a06b7e93bea919.doc',\n  '453b2cb6e4ba7b8d1a8382773880d313.doc',\n  '2b408919fd9833dc3f6892aad753f21f.docx',\n  '8540a7dccb3a9e4d0a1a2611e077ce9d.doc',\n  '66ee9b692a6b9c690564c92121a76b15.doc',\n  '508bdc1406af695fd7ab1f22b69b9857.doc',\n  '981d5a0ebbecffa588848251d0750fec.doc',\n  '3031ff9bc88ad88532311b419267c875.doc',\n  'e6a90919eab84ecbbdca11016c37b3a9.doc',\n  'a0e06a957c1a729fe1d978605680e2ae.doc',\n  'a7966d0674c94a6e752e3a5832edb2a9.doc',\n  '8ee681886de97951748528c7c78d03a7.docx',\n  'b303afea664ed05cdbc73a8c3b31b09d.docx',\n  '03a70fe60be9ecc2a63798a361fc9689.docx',\n  'c3141b7956167ce3987b82beb6cf73c4.doc']}"
     },
     "execution_count": 3,
     "metadata": {},
     "output_type": "execute_result"
    }
   ],
   "source": [
    "# data is a dict of {class: [doc1, doc2, ...]}\n",
    "new_data = {key: [] for key in all_labels}\n",
    "for key, value in new_data.items():\n",
    "    for key2, value2 in data.items():\n",
    "        if key == value2:\n",
    "            new_data[key].append(key2)\n",
    "new_data"
   ],
   "metadata": {
    "collapsed": false
   }
  },
  {
   "cell_type": "code",
   "execution_count": 4,
   "outputs": [
    {
     "data": {
      "text/plain": "{'Договоры оказания услуг': ['pdf',\n  'doc',\n  'rtf',\n  'rtf',\n  'docx',\n  'doc',\n  'doc',\n  'doc',\n  'docx',\n  'docx',\n  'doc',\n  'doc',\n  'docx',\n  'doc',\n  'doc',\n  'doc',\n  'doc',\n  'rtf',\n  'docx',\n  'pdf',\n  'doc',\n  'doc',\n  'doc',\n  'doc',\n  'rtf',\n  'pdf',\n  'doc',\n  'doc',\n  'doc',\n  'doc',\n  'doc',\n  'doc'],\n 'Договоры купли-продажи': ['doc',\n  'doc',\n  'pdf',\n  'doc',\n  'pdf',\n  'doc',\n  'pdf',\n  'doc',\n  'pdf',\n  'doc',\n  'docx',\n  'doc',\n  'pdf',\n  'doc',\n  'docx',\n  'doc',\n  'doc',\n  'docx',\n  'pdf',\n  'doc',\n  'doc',\n  'doc',\n  'doc'],\n 'Договоры аренды': ['doc',\n  'doc',\n  'doc',\n  'doc',\n  'doc',\n  'doc',\n  'doc',\n  'doc',\n  'docx',\n  'doc',\n  'docx',\n  'doc',\n  'doc',\n  'doc',\n  'doc',\n  'doc',\n  'docx',\n  'doc',\n  'doc',\n  'doc',\n  'doc',\n  'doc',\n  'doc'],\n 'Договоры поставки': ['doc',\n  'doc',\n  'docx',\n  'pdf',\n  'docx',\n  'doc',\n  'doc',\n  'doc',\n  'pdf',\n  'doc',\n  'doc',\n  'docx',\n  'docx',\n  'doc',\n  'doc',\n  'pdf',\n  'pdf',\n  'doc',\n  'doc',\n  'doc',\n  'docx'],\n 'Договоры подряда': ['doc',\n  'docx',\n  'doc',\n  'docx',\n  'doc',\n  'doc',\n  'doc',\n  'doc',\n  'docx',\n  'doc',\n  'doc',\n  'doc',\n  'doc',\n  'doc',\n  'doc',\n  'doc',\n  'doc',\n  'docx',\n  'docx',\n  'docx',\n  'doc']}"
     },
     "execution_count": 4,
     "metadata": {},
     "output_type": "execute_result"
    }
   ],
   "source": [
    "# create statistic by every doc type per class\n",
    "# and visualize using matplotlib\n",
    "# clone data but only with doc types\n",
    "\n",
    "new_data2 = {key: [] for key in all_labels}\n",
    "for key, value in new_data.items():\n",
    "    for key2, value2 in data.items():\n",
    "        if key == value2:\n",
    "            new_data2[key].append(key2.split('.')[-1])\n",
    "new_data2"
   ],
   "metadata": {
    "collapsed": false
   }
  },
  {
   "cell_type": "code",
   "execution_count": 5,
   "outputs": [
    {
     "data": {
      "text/plain": "<Figure size 1500x300 with 5 Axes>",
      "image/png": "[encoded data removed]"
     },
     "metadata": {},
     "output_type": "display_data"
    }
   ],
   "source": [
    "# create statistic by every doc type per class\n",
    "# and visualize using matplotlib\n",
    "\n",
    "import matplotlib.pyplot as plt\n",
    "import numpy as np\n",
    "\n",
    "count = len(list(set(new_data2.keys())))\n",
    "plt.figure(figsize=(3 * count, 3))\n",
    "for i, (key, value) in enumerate(new_data2.items()):\n",
    "    plt.subplot(1, count, i + 1)\n",
    "    value = [value.count('doc'), value.count('docx'), value.count('pdf'), value.count('rtf')]\n",
    "    plt.bar(np.arange(len(value)), value)\n",
    "    plt.xticks(np.arange(len(value)), ['doc', 'docx', 'pdf', 'rtf'])\n",
    "    plt.title(key)\n",
    "plt.show()"
   ],
   "metadata": {
    "collapsed": false
   }
  },
  {
   "cell_type": "markdown",
   "source": [
    "# 2. Data preprocessing"
   ],
   "metadata": {
    "collapsed": false
   }
  },
  {
   "cell_type": "markdown",
   "source": [
    "Here we will transform all files in data/docs to .txt format and save them in data/docs_txt"
   ],
   "metadata": {
    "collapsed": false
   }
  },
  {
   "cell_type": "code",
   "execution_count": 15,
   "outputs": [
    {
     "name": "stderr",
     "output_type": "stream",
     "text": [
      "100%|██████████| 120/120 [00:18<00:00,  6.38it/s]\n"
     ]
    }
   ],
   "source": [
    "import aspose.words as aw\n",
    "import glob\n",
    "import os\n",
    "import tqdm\n",
    "\n",
    "paths = glob.glob('data/docs/*')\n",
    "os.mkdir('data/docs_txt')\n",
    "\n",
    "for path in tqdm.tqdm(paths):\n",
    "    doc = aw.Document(path)\n",
    "    path = path.replace('data/docs', 'data/docs_txt')\n",
    "    doc.save(path + '.txt')"
   ],
   "metadata": {
    "collapsed": false
   }
  }
 ],
 "metadata": {
  "kernelspec": {
   "display_name": "Python 3",
   "language": "python",
   "name": "python3"
  },
  "language_info": {
   "codemirror_mode": {
    "name": "ipython",
    "version": 2
   },
   "file_extension": ".py",
   "mimetype": "text/x-python",
   "name": "python",
   "nbconvert_exporter": "python",
   "pygments_lexer": "ipython2",
   "version": "2.7.6"
  }
 },
 "nbformat": 4,
 "nbformat_minor": 0
}
