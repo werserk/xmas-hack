{
 "cells": [
  {
   "cell_type": "code",
   "execution_count": 36,
   "outputs": [],
   "source": [
    "import sys\n",
    "import os\n",
    "\n",
    "\n",
    "class TfIdf:\n",
    "    def __init__(self):\n",
    "        self.weighted = False\n",
    "        self.documents = []\n",
    "        self.corpus_dict = {}\n",
    "\n",
    "    def add_document(self, doc_name, list_of_words):\n",
    "        # building a dictionary\n",
    "        doc_dict = {}\n",
    "        for w in list_of_words:\n",
    "            doc_dict[w] = doc_dict.get(w, 0.) + 1.0\n",
    "            self.corpus_dict[w] = self.corpus_dict.get(w, 0.0) + 1.0\n",
    "\n",
    "        # normalizing the dictionary\n",
    "        length = float(len(list_of_words))\n",
    "        for k in doc_dict:\n",
    "            doc_dict[k] = doc_dict[k] / length\n",
    "\n",
    "        # add the normalized document to the corpus\n",
    "        self.documents.append([doc_name, doc_dict])\n",
    "\n",
    "    def similarities(self, list_of_words):\n",
    "        \"\"\"Returns a list of all the [docname, similarity_score] pairs relative to a\n",
    "list of words.\n",
    "        \"\"\"\n",
    "\n",
    "        # building the query dictionary\n",
    "        query_dict = {}\n",
    "        for w in list_of_words:\n",
    "            query_dict[w] = query_dict.get(w, 0.0) + 1.0\n",
    "\n",
    "        # normalizing the query\n",
    "        length = float(len(list_of_words))\n",
    "        for k in query_dict:\n",
    "            query_dict[k] = query_dict[k] / length\n",
    "\n",
    "        # computing the list of similarities\n",
    "        sims = []\n",
    "        for doc in self.documents:\n",
    "            score = 0.0\n",
    "            doc_dict = doc[1]\n",
    "            for k in query_dict:\n",
    "                if k in doc_dict:\n",
    "                    score += (query_dict[k] / self.corpus_dict[k]) + (\n",
    "                      doc_dict[k] / self.corpus_dict[k])\n",
    "            sims.append([doc[0], score])\n",
    "\n",
    "        return sims"
   ],
   "metadata": {
    "collapsed": false
   }
  },
  {
   "cell_type": "code",
   "execution_count": 40,
   "outputs": [
    {
     "data": {
      "text/plain": "[['foo', 0.6875], ['bar', 0.75], ['baz', 0.0]]"
     },
     "execution_count": 40,
     "metadata": {},
     "output_type": "execute_result"
    }
   ],
   "source": [
    "\n",
    "table = TfIdf()\n",
    "table.add_document(\"foo\", [\"a\", \"b\", \"c\", \"d\", \"e\", \"f\", \"g\", \"h\"])\n",
    "table.add_document(\"bar\", [\"a\", \"b\", \"c\", \"i\", \"j\", \"k\"])\n",
    "table.add_document(\"baz\", [\"k\", \"l\", \"m\", \"n\"])\n",
    "\n",
    "table.similarities([\"a\", \"b\", \"c\"])"
   ],
   "metadata": {
    "collapsed": false
   }
  },
  {
   "cell_type": "code",
   "execution_count": null,
   "outputs": [],
   "source": [],
   "metadata": {
    "collapsed": false
   }
  }
 ],
 "metadata": {
  "kernelspec": {
   "display_name": "Python 3",
   "language": "python",
   "name": "python3"
  },
  "language_info": {
   "codemirror_mode": {
    "name": "ipython",
    "version": 2
   },
   "file_extension": ".py",
   "mimetype": "text/x-python",
   "name": "python",
   "nbconvert_exporter": "python",
   "pygments_lexer": "ipython2",
   "version": "2.7.6"
  }
 },
 "nbformat": 4,
 "nbformat_minor": 0
}
