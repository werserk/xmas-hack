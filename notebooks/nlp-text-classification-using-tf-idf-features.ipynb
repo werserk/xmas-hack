{
 "cells": [
  {
   "cell_type": "markdown",
   "metadata": {
    "_cell_guid": "79c7e3d0-c299-4dcb-8224-4455121ee9b0",
    "_uuid": "d629ff2d2480ee46fbb7e2d37f6b5fab8052498a",
    "papermill": {
     "duration": 0.017785,
     "end_time": "2022-05-30T18:33:32.518661",
     "exception": false,
     "start_time": "2022-05-30T18:33:32.500876",
     "status": "completed"
    },
    "tags": [],
    "pycharm": {
     "name": "#%% md\n"
    }
   },
   "source": [
    "# Problem statement\n",
    "\n",
    "The aim is to develop an algorithm to predict whether a tweet is about a real disaster or not."
   ]
  },
  {
   "cell_type": "code",
   "execution_count": 1,
   "metadata": {
    "execution": {
     "iopub.execute_input": "2022-05-30T18:33:32.561834Z",
     "iopub.status.busy": "2022-05-30T18:33:32.561045Z",
     "iopub.status.idle": "2022-05-30T18:33:34.319853Z",
     "shell.execute_reply": "2022-05-30T18:33:34.319192Z",
     "shell.execute_reply.started": "2022-05-11T05:52:37.748787Z"
    },
    "papermill": {
     "duration": 1.78388,
     "end_time": "2022-05-30T18:33:34.319983",
     "exception": false,
     "start_time": "2022-05-30T18:33:32.536103",
     "status": "completed"
    },
    "tags": [],
    "pycharm": {
     "name": "#%%\n"
    }
   },
   "outputs": [],
   "source": [
    "import numpy as np\n",
    "import pandas as pd\n",
    "from tqdm import tqdm\n",
    "\n",
    "import re\n",
    "import string\n",
    "\n",
    "import nltk\n",
    "from nltk.corpus import stopwords\n",
    "from nltk.stem import WordNetLemmatizer  \n",
    "stop_words = stopwords.words('english')\n",
    "\n",
    "from sklearn.model_selection import train_test_split\n",
    "from sklearn.metrics import confusion_matrix,classification_report\n",
    "from sklearn.feature_extraction.text import CountVectorizer, TfidfVectorizer\n",
    "from sklearn.ensemble import RandomForestClassifier\n",
    "from sklearn.metrics import confusion_matrix,classification_report\n",
    "\n",
    "import matplotlib.pyplot as plt\n",
    "import seaborn as sns"
   ]
  },
  {
   "cell_type": "code",
   "execution_count": 1,
   "outputs": [
    {
     "name": "stdout",
     "output_type": "stream",
     "text": [
      "Collecting nltk\n",
      "  Downloading nltk-3.8-py3-none-any.whl (1.5 MB)\n",
      "     ---------------------------------------- 1.5/1.5 MB 4.8 MB/s eta 0:00:00\n",
      "Collecting seaborn\n",
      "  Downloading seaborn-0.12.1-py3-none-any.whl (288 kB)\n",
      "     ---------------------------------------- 288.2/288.2 kB ? eta 0:00:00\n",
      "Requirement already satisfied: regex>=2021.8.3 in c:\\users\\3wers\\anaconda3\\envs\\workspace\\lib\\site-packages (from nltk) (2022.10.31)\n",
      "Requirement already satisfied: click in c:\\users\\3wers\\anaconda3\\envs\\workspace\\lib\\site-packages (from nltk) (8.0.4)\n",
      "Requirement already satisfied: joblib in c:\\users\\3wers\\anaconda3\\envs\\workspace\\lib\\site-packages (from nltk) (1.2.0)\n",
      "Requirement already satisfied: tqdm in c:\\users\\3wers\\anaconda3\\envs\\workspace\\lib\\site-packages (from nltk) (4.64.1)\n",
      "Requirement already satisfied: numpy>=1.17 in c:\\users\\3wers\\anaconda3\\envs\\workspace\\lib\\site-packages (from seaborn) (1.21.6)\n",
      "Requirement already satisfied: typing_extensions in c:\\users\\3wers\\anaconda3\\envs\\workspace\\lib\\site-packages (from seaborn) (4.1.1)\n",
      "Requirement already satisfied: pandas>=0.25 in c:\\users\\3wers\\anaconda3\\envs\\workspace\\lib\\site-packages (from seaborn) (1.3.5)\n",
      "Requirement already satisfied: matplotlib!=3.6.1,>=3.1 in c:\\users\\3wers\\anaconda3\\envs\\workspace\\lib\\site-packages (from seaborn) (3.5.3)\n",
      "Requirement already satisfied: fonttools>=4.22.0 in c:\\users\\3wers\\anaconda3\\envs\\workspace\\lib\\site-packages (from matplotlib!=3.6.1,>=3.1->seaborn) (4.38.0)\n",
      "Requirement already satisfied: kiwisolver>=1.0.1 in c:\\users\\3wers\\anaconda3\\envs\\workspace\\lib\\site-packages (from matplotlib!=3.6.1,>=3.1->seaborn) (1.4.4)\n",
      "Requirement already satisfied: pyparsing>=2.2.1 in c:\\users\\3wers\\anaconda3\\envs\\workspace\\lib\\site-packages (from matplotlib!=3.6.1,>=3.1->seaborn) (3.0.9)\n",
      "Requirement already satisfied: python-dateutil>=2.7 in c:\\users\\3wers\\anaconda3\\envs\\workspace\\lib\\site-packages (from matplotlib!=3.6.1,>=3.1->seaborn) (2.8.2)\n",
      "Requirement already satisfied: pillow>=6.2.0 in c:\\users\\3wers\\anaconda3\\envs\\workspace\\lib\\site-packages (from matplotlib!=3.6.1,>=3.1->seaborn) (9.3.0)\n",
      "Requirement already satisfied: cycler>=0.10 in c:\\users\\3wers\\anaconda3\\envs\\workspace\\lib\\site-packages (from matplotlib!=3.6.1,>=3.1->seaborn) (0.11.0)\n",
      "Requirement already satisfied: packaging>=20.0 in c:\\users\\3wers\\anaconda3\\envs\\workspace\\lib\\site-packages (from matplotlib!=3.6.1,>=3.1->seaborn) (21.3)\n",
      "Requirement already satisfied: pytz>=2017.3 in c:\\users\\3wers\\anaconda3\\envs\\workspace\\lib\\site-packages (from pandas>=0.25->seaborn) (2022.1)\n",
      "Requirement already satisfied: importlib-metadata in c:\\users\\3wers\\anaconda3\\envs\\workspace\\lib\\site-packages (from click->nltk) (4.11.3)\n",
      "Requirement already satisfied: colorama in c:\\users\\3wers\\anaconda3\\envs\\workspace\\lib\\site-packages (from click->nltk) (0.4.5)\n",
      "Requirement already satisfied: six>=1.5 in c:\\users\\3wers\\anaconda3\\envs\\workspace\\lib\\site-packages (from python-dateutil>=2.7->matplotlib!=3.6.1,>=3.1->seaborn) (1.12.0)\n",
      "Requirement already satisfied: zipp>=0.5 in c:\\users\\3wers\\anaconda3\\envs\\workspace\\lib\\site-packages (from importlib-metadata->click->nltk) (3.8.0)\n",
      "Installing collected packages: seaborn, nltk\n",
      "Successfully installed nltk-3.8 seaborn-0.12.1\n"
     ]
    }
   ],
   "source": [
    "!pip install nltk seaborn"
   ],
   "metadata": {
    "collapsed": false,
    "pycharm": {
     "name": "#%%\n"
    }
   }
  },
  {
   "cell_type": "code",
   "execution_count": 2,
   "metadata": {
    "execution": {
     "iopub.execute_input": "2022-05-30T18:33:34.357148Z",
     "iopub.status.busy": "2022-05-30T18:33:34.356514Z",
     "iopub.status.idle": "2022-05-30T18:33:34.442100Z",
     "shell.execute_reply": "2022-05-30T18:33:34.442592Z",
     "shell.execute_reply.started": "2022-05-11T05:52:39.858049Z"
    },
    "papermill": {
     "duration": 0.105661,
     "end_time": "2022-05-30T18:33:34.442749",
     "exception": false,
     "start_time": "2022-05-30T18:33:34.337088",
     "status": "completed"
    },
    "tags": [],
    "pycharm": {
     "name": "#%%\n"
    }
   },
   "outputs": [
    {
     "data": {
      "text/html": [
       "<div>\n",
       "<style scoped>\n",
       "    .dataframe tbody tr th:only-of-type {\n",
       "        vertical-align: middle;\n",
       "    }\n",
       "\n",
       "    .dataframe tbody tr th {\n",
       "        vertical-align: top;\n",
       "    }\n",
       "\n",
       "    .dataframe thead th {\n",
       "        text-align: right;\n",
       "    }\n",
       "</style>\n",
       "<table border=\"1\" class=\"dataframe\">\n",
       "  <thead>\n",
       "    <tr style=\"text-align: right;\">\n",
       "      <th></th>\n",
       "      <th>id</th>\n",
       "      <th>keyword</th>\n",
       "      <th>location</th>\n",
       "      <th>text</th>\n",
       "      <th>target</th>\n",
       "    </tr>\n",
       "  </thead>\n",
       "  <tbody>\n",
       "    <tr>\n",
       "      <th>0</th>\n",
       "      <td>1</td>\n",
       "      <td>NaN</td>\n",
       "      <td>NaN</td>\n",
       "      <td>Our Deeds are the Reason of this #earthquake M...</td>\n",
       "      <td>1</td>\n",
       "    </tr>\n",
       "    <tr>\n",
       "      <th>1</th>\n",
       "      <td>4</td>\n",
       "      <td>NaN</td>\n",
       "      <td>NaN</td>\n",
       "      <td>Forest fire near La Ronge Sask. Canada</td>\n",
       "      <td>1</td>\n",
       "    </tr>\n",
       "    <tr>\n",
       "      <th>2</th>\n",
       "      <td>5</td>\n",
       "      <td>NaN</td>\n",
       "      <td>NaN</td>\n",
       "      <td>All residents asked to 'shelter in place' are ...</td>\n",
       "      <td>1</td>\n",
       "    </tr>\n",
       "    <tr>\n",
       "      <th>3</th>\n",
       "      <td>6</td>\n",
       "      <td>NaN</td>\n",
       "      <td>NaN</td>\n",
       "      <td>13,000 people receive #wildfires evacuation or...</td>\n",
       "      <td>1</td>\n",
       "    </tr>\n",
       "    <tr>\n",
       "      <th>4</th>\n",
       "      <td>7</td>\n",
       "      <td>NaN</td>\n",
       "      <td>NaN</td>\n",
       "      <td>Just got sent this photo from Ruby #Alaska as ...</td>\n",
       "      <td>1</td>\n",
       "    </tr>\n",
       "  </tbody>\n",
       "</table>\n",
       "</div>"
      ],
      "text/plain": [
       "   id keyword location                                               text  \\\n",
       "0   1     NaN      NaN  Our Deeds are the Reason of this #earthquake M...   \n",
       "1   4     NaN      NaN             Forest fire near La Ronge Sask. Canada   \n",
       "2   5     NaN      NaN  All residents asked to 'shelter in place' are ...   \n",
       "3   6     NaN      NaN  13,000 people receive #wildfires evacuation or...   \n",
       "4   7     NaN      NaN  Just got sent this photo from Ruby #Alaska as ...   \n",
       "\n",
       "   target  \n",
       "0       1  \n",
       "1       1  \n",
       "2       1  \n",
       "3       1  \n",
       "4       1  "
      ]
     },
     "execution_count": 2,
     "metadata": {},
     "output_type": "execute_result"
    }
   ],
   "source": [
    "df = pd.read_csv('/kaggle/input/nlp-getting-started/train.csv')\n",
    "df.head()"
   ]
  },
  {
   "cell_type": "code",
   "execution_count": 3,
   "metadata": {
    "execution": {
     "iopub.execute_input": "2022-05-30T18:33:34.484037Z",
     "iopub.status.busy": "2022-05-30T18:33:34.483351Z",
     "iopub.status.idle": "2022-05-30T18:33:34.625361Z",
     "shell.execute_reply": "2022-05-30T18:33:34.625860Z",
     "shell.execute_reply.started": "2022-05-11T05:52:39.935125Z"
    },
    "papermill": {
     "duration": 0.165744,
     "end_time": "2022-05-30T18:33:34.626015",
     "exception": false,
     "start_time": "2022-05-30T18:33:34.460271",
     "status": "completed"
    },
    "tags": [],
    "pycharm": {
     "name": "#%%\n"
    }
   },
   "outputs": [
    {
     "data": {
      "image/png": "[encoded data removed]",
      "text/plain": [
       "<Figure size 432x288 with 1 Axes>"
      ]
     },
     "metadata": {
      "needs_background": "light"
     },
     "output_type": "display_data"
    }
   ],
   "source": [
    "ax = sns.countplot(x=\"target\", data=df)"
   ]
  },
  {
   "cell_type": "markdown",
   "metadata": {
    "papermill": {
     "duration": 0.018702,
     "end_time": "2022-05-30T18:33:34.662882",
     "exception": false,
     "start_time": "2022-05-30T18:33:34.644180",
     "status": "completed"
    },
    "tags": [],
    "pycharm": {
     "name": "#%% md\n"
    }
   },
   "source": [
    "There is no class imbalance in the distribution of target variable."
   ]
  },
  {
   "cell_type": "markdown",
   "metadata": {
    "papermill": {
     "duration": 0.017596,
     "end_time": "2022-05-30T18:33:34.698576",
     "exception": false,
     "start_time": "2022-05-30T18:33:34.680980",
     "status": "completed"
    },
    "tags": [],
    "pycharm": {
     "name": "#%% md\n"
    }
   },
   "source": [
    "# Data Clensing\n",
    "\n",
    "We are using custom functions to perform the following tasks. Cleaning up the data for modeling should be carried out carefully and with the help of subject matter experts, if possible. This cleaning is done completely based on observation, and can not be considered as a generic preprocessing step for all the NLP tasks. This preprocessing function ensures:\n",
    "\n",
    "* Removing urls from tweet\n",
    "* Removing html tags\n",
    "* Removing punctuations\n",
    "* Removing stopwords\n",
    "* Removing emoji\n",
    "* Lemmatization"
   ]
  },
  {
   "cell_type": "code",
   "execution_count": 4,
   "metadata": {
    "execution": {
     "iopub.execute_input": "2022-05-30T18:33:34.738716Z",
     "iopub.status.busy": "2022-05-30T18:33:34.737682Z",
     "iopub.status.idle": "2022-05-30T18:33:34.749423Z",
     "shell.execute_reply": "2022-05-30T18:33:34.750045Z",
     "shell.execute_reply.started": "2022-05-11T05:52:40.096669Z"
    },
    "papermill": {
     "duration": 0.033748,
     "end_time": "2022-05-30T18:33:34.750203",
     "exception": false,
     "start_time": "2022-05-30T18:33:34.716455",
     "status": "completed"
    },
    "tags": [],
    "pycharm": {
     "name": "#%%\n"
    }
   },
   "outputs": [],
   "source": [
    "sw = stopwords.words('english')\n",
    "lemmatizer = WordNetLemmatizer() \n",
    "\n",
    "def clean_text(text):\n",
    "    \n",
    "    text = text.lower()\n",
    "    \n",
    "    text = re.sub(r\"[^a-zA-Z?.!,¿]+\", \" \", text) # replacing everything with space except (a-z, A-Z, \".\", \"?\", \"!\", \",\")\n",
    "\n",
    "    text = re.sub(r\"http\\S+\", \"\",text) #Removing URLs \n",
    "    #text = re.sub(r\"http\", \"\",text)\n",
    "    \n",
    "    html=re.compile(r'<.*?>') \n",
    "    \n",
    "    text = html.sub(r'',text) #Removing html tags\n",
    "    \n",
    "    punctuations = '@#!?+&*[]-%.:/();$=><|{}^' + \"'`\" + '_'\n",
    "    for p in punctuations:\n",
    "        text = text.replace(p,'') #Removing punctuations\n",
    "        \n",
    "    text = [word.lower() for word in text.split() if word.lower() not in sw]\n",
    "    \n",
    "    text = [lemmatizer.lemmatize(word) for word in text]\n",
    "    \n",
    "    text = \" \".join(text) #removing stopwords\n",
    "    \n",
    "    emoji_pattern = re.compile(\"[\"\n",
    "                           u\"\\U0001F600-\\U0001F64F\"  # emoticons\n",
    "                           u\"\\U0001F300-\\U0001F5FF\"  # symbols & pictographs\n",
    "                           u\"\\U0001F680-\\U0001F6FF\"  # transport & map symbols\n",
    "                           u\"\\U0001F1E0-\\U0001F1FF\"  # flags (iOS)\n",
    "                           u\"\\U00002702-\\U000027B0\"\n",
    "                           u\"\\U000024C2-\\U0001F251\"\n",
    "                           \"]+\", flags=re.UNICODE)\n",
    "    text = emoji_pattern.sub(r'', text) #Removing emojis\n",
    "    \n",
    "    return text"
   ]
  },
  {
   "cell_type": "code",
   "execution_count": 5,
   "metadata": {
    "execution": {
     "iopub.execute_input": "2022-05-30T18:33:34.789851Z",
     "iopub.status.busy": "2022-05-30T18:33:34.788838Z",
     "iopub.status.idle": "2022-05-30T18:33:38.046832Z",
     "shell.execute_reply": "2022-05-30T18:33:38.046153Z",
     "shell.execute_reply.started": "2022-05-11T05:52:40.114676Z"
    },
    "papermill": {
     "duration": 3.278976,
     "end_time": "2022-05-30T18:33:38.046948",
     "exception": false,
     "start_time": "2022-05-30T18:33:34.767972",
     "status": "completed"
    },
    "tags": [],
    "pycharm": {
     "name": "#%%\n"
    }
   },
   "outputs": [
    {
     "data": {
      "text/html": [
       "<div>\n",
       "<style scoped>\n",
       "    .dataframe tbody tr th:only-of-type {\n",
       "        vertical-align: middle;\n",
       "    }\n",
       "\n",
       "    .dataframe tbody tr th {\n",
       "        vertical-align: top;\n",
       "    }\n",
       "\n",
       "    .dataframe thead th {\n",
       "        text-align: right;\n",
       "    }\n",
       "</style>\n",
       "<table border=\"1\" class=\"dataframe\">\n",
       "  <thead>\n",
       "    <tr style=\"text-align: right;\">\n",
       "      <th></th>\n",
       "      <th>id</th>\n",
       "      <th>keyword</th>\n",
       "      <th>location</th>\n",
       "      <th>text</th>\n",
       "      <th>target</th>\n",
       "    </tr>\n",
       "  </thead>\n",
       "  <tbody>\n",
       "    <tr>\n",
       "      <th>0</th>\n",
       "      <td>1</td>\n",
       "      <td>NaN</td>\n",
       "      <td>NaN</td>\n",
       "      <td>deed reason earthquake may allah forgive u</td>\n",
       "      <td>1</td>\n",
       "    </tr>\n",
       "    <tr>\n",
       "      <th>1</th>\n",
       "      <td>4</td>\n",
       "      <td>NaN</td>\n",
       "      <td>NaN</td>\n",
       "      <td>forest fire near la ronge sask canada</td>\n",
       "      <td>1</td>\n",
       "    </tr>\n",
       "    <tr>\n",
       "      <th>2</th>\n",
       "      <td>5</td>\n",
       "      <td>NaN</td>\n",
       "      <td>NaN</td>\n",
       "      <td>resident asked shelter place notified officer ...</td>\n",
       "      <td>1</td>\n",
       "    </tr>\n",
       "    <tr>\n",
       "      <th>3</th>\n",
       "      <td>6</td>\n",
       "      <td>NaN</td>\n",
       "      <td>NaN</td>\n",
       "      <td>, people receive wildfire evacuation order cal...</td>\n",
       "      <td>1</td>\n",
       "    </tr>\n",
       "    <tr>\n",
       "      <th>4</th>\n",
       "      <td>7</td>\n",
       "      <td>NaN</td>\n",
       "      <td>NaN</td>\n",
       "      <td>got sent photo ruby alaska smoke wildfire pour...</td>\n",
       "      <td>1</td>\n",
       "    </tr>\n",
       "  </tbody>\n",
       "</table>\n",
       "</div>"
      ],
      "text/plain": [
       "   id keyword location                                               text  \\\n",
       "0   1     NaN      NaN         deed reason earthquake may allah forgive u   \n",
       "1   4     NaN      NaN              forest fire near la ronge sask canada   \n",
       "2   5     NaN      NaN  resident asked shelter place notified officer ...   \n",
       "3   6     NaN      NaN  , people receive wildfire evacuation order cal...   \n",
       "4   7     NaN      NaN  got sent photo ruby alaska smoke wildfire pour...   \n",
       "\n",
       "   target  \n",
       "0       1  \n",
       "1       1  \n",
       "2       1  \n",
       "3       1  \n",
       "4       1  "
      ]
     },
     "execution_count": 5,
     "metadata": {},
     "output_type": "execute_result"
    }
   ],
   "source": [
    "df['text'] = df['text'].apply(lambda x: clean_text(x))\n",
    " \n",
    "df.head()"
   ]
  },
  {
   "cell_type": "markdown",
   "metadata": {
    "papermill": {
     "duration": 0.018705,
     "end_time": "2022-05-30T18:33:38.084083",
     "exception": false,
     "start_time": "2022-05-30T18:33:38.065378",
     "status": "completed"
    },
    "tags": [],
    "pycharm": {
     "name": "#%% md\n"
    }
   },
   "source": [
    "# Words to vectors"
   ]
  },
  {
   "cell_type": "markdown",
   "metadata": {
    "papermill": {
     "duration": 0.018048,
     "end_time": "2022-05-30T18:33:38.120568",
     "exception": false,
     "start_time": "2022-05-30T18:33:38.102520",
     "status": "completed"
    },
    "tags": [],
    "pycharm": {
     "name": "#%% md\n"
    }
   },
   "source": [
    "Reference\n",
    "\n",
    "https://towardsdatascience.com/word-embeddings-exploration-explanation-and-exploitation-with-code-in-python-5dac99d5d795\n",
    "\n",
    "https://towardsdatascience.com/hacking-scikit-learns-vectorizers-9ef26a7170af"
   ]
  },
  {
   "cell_type": "markdown",
   "metadata": {
    "papermill": {
     "duration": 0.01812,
     "end_time": "2022-05-30T18:33:38.157083",
     "exception": false,
     "start_time": "2022-05-30T18:33:38.138963",
     "status": "completed"
    },
    "tags": [],
    "pycharm": {
     "name": "#%% md\n"
    }
   },
   "source": [
    "We need to convert the words to numeric representations, to use them as input to our machine learning model. One way to do this is:\n",
    "\n",
    "## Count Vectorizer\n",
    "The most basic and naive method of transforming words into vectors by counting occurrence of each word in each document. The output is a document-term matrix with each row representing a document and each column addressing a token (weight assigned to each token based on counting the occurence). \n",
    "\n",
    "For example:"
   ]
  },
  {
   "cell_type": "code",
   "execution_count": 6,
   "metadata": {
    "execution": {
     "iopub.execute_input": "2022-05-30T18:33:38.197230Z",
     "iopub.status.busy": "2022-05-30T18:33:38.196625Z",
     "iopub.status.idle": "2022-05-30T18:33:38.203377Z",
     "shell.execute_reply": "2022-05-30T18:33:38.204063Z",
     "shell.execute_reply.started": "2022-05-11T05:52:43.450672Z"
    },
    "papermill": {
     "duration": 0.02838,
     "end_time": "2022-05-30T18:33:38.204220",
     "exception": false,
     "start_time": "2022-05-30T18:33:38.175840",
     "status": "completed"
    },
    "tags": [],
    "pycharm": {
     "name": "#%%\n"
    }
   },
   "outputs": [
    {
     "data": {
      "text/plain": [
       "array(['deed reason earthquake may allah forgive u',\n",
       "       'forest fire near la ronge sask canada'], dtype=object)"
      ]
     },
     "execution_count": 6,
     "metadata": {},
     "output_type": "execute_result"
    }
   ],
   "source": [
    "sample_corpora = df['text'].iloc[:2].values\n",
    "sample_corpora"
   ]
  },
  {
   "cell_type": "code",
   "execution_count": 7,
   "metadata": {
    "execution": {
     "iopub.execute_input": "2022-05-30T18:33:38.245918Z",
     "iopub.status.busy": "2022-05-30T18:33:38.244968Z",
     "iopub.status.idle": "2022-05-30T18:33:38.262354Z",
     "shell.execute_reply": "2022-05-30T18:33:38.262971Z",
     "shell.execute_reply.started": "2022-05-11T05:52:43.460094Z"
    },
    "papermill": {
     "duration": 0.039708,
     "end_time": "2022-05-30T18:33:38.263121",
     "exception": false,
     "start_time": "2022-05-30T18:33:38.223413",
     "status": "completed"
    },
    "tags": [],
    "pycharm": {
     "name": "#%%\n"
    }
   },
   "outputs": [
    {
     "data": {
      "text/html": [
       "<div>\n",
       "<style scoped>\n",
       "    .dataframe tbody tr th:only-of-type {\n",
       "        vertical-align: middle;\n",
       "    }\n",
       "\n",
       "    .dataframe tbody tr th {\n",
       "        vertical-align: top;\n",
       "    }\n",
       "\n",
       "    .dataframe thead th {\n",
       "        text-align: right;\n",
       "    }\n",
       "</style>\n",
       "<table border=\"1\" class=\"dataframe\">\n",
       "  <thead>\n",
       "    <tr style=\"text-align: right;\">\n",
       "      <th></th>\n",
       "      <th>allah</th>\n",
       "      <th>canada</th>\n",
       "      <th>deed</th>\n",
       "      <th>earthquake</th>\n",
       "      <th>fire</th>\n",
       "      <th>forest</th>\n",
       "      <th>forgive</th>\n",
       "      <th>la</th>\n",
       "      <th>may</th>\n",
       "      <th>near</th>\n",
       "      <th>reason</th>\n",
       "      <th>ronge</th>\n",
       "      <th>sask</th>\n",
       "    </tr>\n",
       "  </thead>\n",
       "  <tbody>\n",
       "    <tr>\n",
       "      <th>Doc0</th>\n",
       "      <td>1</td>\n",
       "      <td>0</td>\n",
       "      <td>1</td>\n",
       "      <td>1</td>\n",
       "      <td>0</td>\n",
       "      <td>0</td>\n",
       "      <td>1</td>\n",
       "      <td>0</td>\n",
       "      <td>1</td>\n",
       "      <td>0</td>\n",
       "      <td>1</td>\n",
       "      <td>0</td>\n",
       "      <td>0</td>\n",
       "    </tr>\n",
       "    <tr>\n",
       "      <th>Doc1</th>\n",
       "      <td>0</td>\n",
       "      <td>1</td>\n",
       "      <td>0</td>\n",
       "      <td>0</td>\n",
       "      <td>1</td>\n",
       "      <td>1</td>\n",
       "      <td>0</td>\n",
       "      <td>1</td>\n",
       "      <td>0</td>\n",
       "      <td>1</td>\n",
       "      <td>0</td>\n",
       "      <td>1</td>\n",
       "      <td>1</td>\n",
       "    </tr>\n",
       "  </tbody>\n",
       "</table>\n",
       "</div>"
      ],
      "text/plain": [
       "      allah  canada  deed  earthquake  fire  forest  forgive  la  may  near  \\\n",
       "Doc0      1       0     1           1     0       0        1   0    1     0   \n",
       "Doc1      0       1     0           0     1       1        0   1    0     1   \n",
       "\n",
       "      reason  ronge  sask  \n",
       "Doc0       1      0     0  \n",
       "Doc1       0      1     1  "
      ]
     },
     "execution_count": 7,
     "metadata": {},
     "output_type": "execute_result"
    }
   ],
   "source": [
    "count_vectorizer = CountVectorizer()\n",
    "wm = count_vectorizer.fit_transform(sample_corpora)\n",
    "\n",
    "doc_names = ['Doc{:d}'.format(idx) for idx, _ in enumerate(wm)]\n",
    "feat_names = count_vectorizer.get_feature_names()\n",
    "\n",
    "\n",
    "sample_df = pd.DataFrame(data=wm.toarray(), index=doc_names,columns=feat_names)\n",
    "sample_df"
   ]
  },
  {
   "cell_type": "markdown",
   "metadata": {
    "papermill": {
     "duration": 0.018623,
     "end_time": "2022-05-30T18:33:38.300754",
     "exception": false,
     "start_time": "2022-05-30T18:33:38.282131",
     "status": "completed"
    },
    "tags": [],
    "pycharm": {
     "name": "#%% md\n"
    }
   },
   "source": [
    "## TF-IDF Vectorizer\n",
    "\n",
    "Taking only word count in document have certain drawbacks. The presence of frequent word vectors wont be sparse (espicially stopwords), though the word may not be important. Also, rare words looks very sparse, hence less importance. To tackle these problems, we use TF-IDF vectorization. \n",
    "\n",
    "The first part is **TF**, called term frequency. This simply means the number of times the word occur in document divided by the total number of words in the document. \n",
    "\n",
    "The second part is **IDF**, which stands for ‘inverse document frequency’, interpreted like inversed number of documents, in which the term we’re interested in occurs."
   ]
  },
  {
   "cell_type": "markdown",
   "metadata": {
    "papermill": {
     "duration": 0.01895,
     "end_time": "2022-05-30T18:33:38.338693",
     "exception": false,
     "start_time": "2022-05-30T18:33:38.319743",
     "status": "completed"
    },
    "tags": [],
    "pycharm": {
     "name": "#%% md\n"
    }
   },
   "source": [
    "**$tf(t,d)$**  is the term frequency is the number of times the term appears in the document.\n",
    "\n",
    "**$$tf(t,d) = {n_{t,d} \\over \\sum_{{k \\in d}} n_{k,d}} $$**\n",
    "\n",
    "\n",
    "Where, $t$ is term and $d$ document.\n",
    "\n",
    "\n",
    "**$idf(t,D)$** is the document frequency is the number of documents '**d**' that contain term '**t**'.\n",
    "\n",
    "**$$idf(t,D) = {log {N\\over{n_t}}}$$**\n",
    "\n",
    "**$$d \\in D, t \\in d $$**\n",
    "\n",
    "\n",
    "where **$N$** is the total number of documents and **$n_t$** is the number of documents containing the term $t$.\n",
    "\n",
    "The **TF-IDF** vector,\n",
    "\n",
    "**$$tfidf(t,d,D) = tf(t,d) * idf(t,D)$$**\n",
    "\n",
    "\n",
    "### Smoothing\n",
    "\n",
    "An idf is constant per corpus for a word. A smoothened version, adding 1 to denominator is applied to avoid division by 0 (occurs when term is not present in corpora). The idea of idf is to weight down the frequent terms while scale up the rare ones, assuming more frequent ones are not always important ones. So, smoothened idf equation is:\n",
    "\n",
    "**$$idf(t,D) = {log {N\\over{1 + n_t}}}$$**\n",
    "\n",
    "NB : smoothing is set True as default in scikit learn tfidf vectorizer"
   ]
  },
  {
   "cell_type": "markdown",
   "metadata": {
    "papermill": {
     "duration": 0.01854,
     "end_time": "2022-05-30T18:33:38.376239",
     "exception": false,
     "start_time": "2022-05-30T18:33:38.357699",
     "status": "completed"
    },
    "tags": [],
    "pycharm": {
     "name": "#%% md\n"
    }
   },
   "source": [
    "# TF-IDF Vectorization using scikit learn"
   ]
  },
  {
   "cell_type": "markdown",
   "metadata": {
    "papermill": {
     "duration": 0.018653,
     "end_time": "2022-05-30T18:33:38.414067",
     "exception": false,
     "start_time": "2022-05-30T18:33:38.395414",
     "status": "completed"
    },
    "tags": [],
    "pycharm": {
     "name": "#%% md\n"
    }
   },
   "source": [
    "We will split the data to train and test set. In production, we may face out of vocabulary (OOV) words, so we need to account for that too while evaluating the model in test set. Hence we use training data to built vocabulory for tfidf vectorization.\n",
    "\n",
    "Tfidf vectorization can be implemented easily using scikit learn.\n",
    "\n",
    "Ref - https://scikit-learn.org/stable/modules/generated/sklearn.feature_extraction.text.TfidfVectorizer.html"
   ]
  },
  {
   "cell_type": "code",
   "execution_count": 8,
   "metadata": {
    "execution": {
     "iopub.execute_input": "2022-05-30T18:33:38.455939Z",
     "iopub.status.busy": "2022-05-30T18:33:38.454979Z",
     "iopub.status.idle": "2022-05-30T18:33:38.469261Z",
     "shell.execute_reply": "2022-05-30T18:33:38.469807Z",
     "shell.execute_reply.started": "2022-05-11T05:52:43.489131Z"
    },
    "papermill": {
     "duration": 0.036908,
     "end_time": "2022-05-30T18:33:38.469953",
     "exception": false,
     "start_time": "2022-05-30T18:33:38.433045",
     "status": "completed"
    },
    "tags": [],
    "pycharm": {
     "name": "#%%\n"
    }
   },
   "outputs": [],
   "source": [
    "X_train, X_test , y_train, y_test = train_test_split(df['text'].values,df['target'].values,test_size=0.2,random_state=123,stratify=df['target'].values)"
   ]
  },
  {
   "cell_type": "code",
   "execution_count": 9,
   "metadata": {
    "execution": {
     "iopub.execute_input": "2022-05-30T18:33:38.512155Z",
     "iopub.status.busy": "2022-05-30T18:33:38.511165Z",
     "iopub.status.idle": "2022-05-30T18:33:38.725168Z",
     "shell.execute_reply": "2022-05-30T18:33:38.724396Z",
     "shell.execute_reply.started": "2022-05-11T05:52:43.51084Z"
    },
    "papermill": {
     "duration": 0.236151,
     "end_time": "2022-05-30T18:33:38.725289",
     "exception": false,
     "start_time": "2022-05-30T18:33:38.489138",
     "status": "completed"
    },
    "tags": [],
    "pycharm": {
     "name": "#%%\n"
    }
   },
   "outputs": [],
   "source": [
    "tfidf_vectorizer = TfidfVectorizer() \n",
    "\n",
    "tfidf_train_vectors = tfidf_vectorizer.fit_transform(X_train)\n",
    "\n",
    "tfidf_test_vectors = tfidf_vectorizer.transform(X_test)"
   ]
  },
  {
   "cell_type": "markdown",
   "metadata": {
    "papermill": {
     "duration": 0.019212,
     "end_time": "2022-05-30T18:33:38.763907",
     "exception": false,
     "start_time": "2022-05-30T18:33:38.744695",
     "status": "completed"
    },
    "tags": [],
    "pycharm": {
     "name": "#%% md\n"
    }
   },
   "source": [
    "# Random Forest classifier\n",
    "\n",
    "A basic random forest model is used for classification problem."
   ]
  },
  {
   "cell_type": "code",
   "execution_count": 10,
   "metadata": {
    "execution": {
     "iopub.execute_input": "2022-05-30T18:33:38.805781Z",
     "iopub.status.busy": "2022-05-30T18:33:38.805143Z",
     "iopub.status.idle": "2022-05-30T18:33:45.838303Z",
     "shell.execute_reply": "2022-05-30T18:33:45.838815Z",
     "shell.execute_reply.started": "2022-05-11T05:52:43.732808Z"
    },
    "papermill": {
     "duration": 7.055763,
     "end_time": "2022-05-30T18:33:45.838960",
     "exception": false,
     "start_time": "2022-05-30T18:33:38.783197",
     "status": "completed"
    },
    "tags": [],
    "pycharm": {
     "name": "#%%\n"
    }
   },
   "outputs": [
    {
     "data": {
      "text/plain": [
       "RandomForestClassifier()"
      ]
     },
     "execution_count": 10,
     "metadata": {},
     "output_type": "execute_result"
    }
   ],
   "source": [
    "classifier = RandomForestClassifier()\n",
    "\n",
    "classifier.fit(tfidf_train_vectors,y_train)"
   ]
  },
  {
   "cell_type": "code",
   "execution_count": 11,
   "metadata": {
    "execution": {
     "iopub.execute_input": "2022-05-30T18:33:45.881594Z",
     "iopub.status.busy": "2022-05-30T18:33:45.880969Z",
     "iopub.status.idle": "2022-05-30T18:33:46.033182Z",
     "shell.execute_reply": "2022-05-30T18:33:46.032492Z",
     "shell.execute_reply.started": "2022-05-11T05:52:50.887294Z"
    },
    "papermill": {
     "duration": 0.174611,
     "end_time": "2022-05-30T18:33:46.033306",
     "exception": false,
     "start_time": "2022-05-30T18:33:45.858695",
     "status": "completed"
    },
    "tags": [],
    "pycharm": {
     "name": "#%%\n"
    }
   },
   "outputs": [],
   "source": [
    "y_pred = classifier.predict(tfidf_test_vectors)"
   ]
  },
  {
   "cell_type": "code",
   "execution_count": 12,
   "metadata": {
    "execution": {
     "iopub.execute_input": "2022-05-30T18:33:46.077054Z",
     "iopub.status.busy": "2022-05-30T18:33:46.076311Z",
     "iopub.status.idle": "2022-05-30T18:33:46.088641Z",
     "shell.execute_reply": "2022-05-30T18:33:46.087906Z",
     "shell.execute_reply.started": "2022-05-11T05:52:51.041767Z"
    },
    "papermill": {
     "duration": 0.035359,
     "end_time": "2022-05-30T18:33:46.088795",
     "exception": false,
     "start_time": "2022-05-30T18:33:46.053436",
     "status": "completed"
    },
    "tags": [],
    "pycharm": {
     "name": "#%%\n"
    }
   },
   "outputs": [
    {
     "name": "stdout",
     "output_type": "stream",
     "text": [
      "              precision    recall  f1-score   support\n",
      "\n",
      "           0       0.77      0.90      0.83       869\n",
      "           1       0.83      0.63      0.72       654\n",
      "\n",
      "    accuracy                           0.79      1523\n",
      "   macro avg       0.80      0.77      0.77      1523\n",
      "weighted avg       0.79      0.79      0.78      1523\n",
      "\n"
     ]
    }
   ],
   "source": [
    "print(classification_report(y_test,y_pred))"
   ]
  },
  {
   "cell_type": "code",
   "execution_count": 13,
   "metadata": {
    "execution": {
     "iopub.execute_input": "2022-05-30T18:33:46.133651Z",
     "iopub.status.busy": "2022-05-30T18:33:46.132992Z",
     "iopub.status.idle": "2022-05-30T18:33:46.316702Z",
     "shell.execute_reply": "2022-05-30T18:33:46.316135Z",
     "shell.execute_reply.started": "2022-05-11T05:52:51.058148Z"
    },
    "papermill": {
     "duration": 0.206594,
     "end_time": "2022-05-30T18:33:46.316821",
     "exception": false,
     "start_time": "2022-05-30T18:33:46.110227",
     "status": "completed"
    },
    "tags": [],
    "pycharm": {
     "name": "#%%\n"
    }
   },
   "outputs": [
    {
     "data": {
      "image/png": "[encoded data removed]",
      "text/plain": [
       "<Figure size 432x288 with 2 Axes>"
      ]
     },
     "metadata": {
      "needs_background": "light"
     },
     "output_type": "display_data"
    }
   ],
   "source": [
    "cnf_matrix = confusion_matrix(y_test,y_pred)\n",
    "group_names = ['TN','FP','FN','TP']\n",
    "group_counts = [\"{0:0.0f}\".format(value) for value in cnf_matrix.flatten()]\n",
    "labels = [f\"{v1}\\n{v2}\" for v1, v2 in zip(group_names,group_counts)]\n",
    "labels = np.asarray(labels).reshape(2,2)\n",
    "sns.heatmap(cnf_matrix, annot=labels, fmt='', cmap='Blues');"
   ]
  },
  {
   "cell_type": "markdown",
   "metadata": {
    "papermill": {
     "duration": 0.020692,
     "end_time": "2022-05-30T18:33:46.357996",
     "exception": false,
     "start_time": "2022-05-30T18:33:46.337304",
     "status": "completed"
    },
    "tags": [],
    "pycharm": {
     "name": "#%% md\n"
    }
   },
   "source": [
    "# End Notes\n",
    "\n",
    "This is a beginer level notebook for the scikit learn based implementation of tfidf vectorization. The accuracy can be improved by using dense vectors like Word2Vec, Glove etc. , that accounts the semantic relationship between the words. Also, the problem can be treated as a sequential learning problem, and can use deep learning techniques.\n",
    "\n",
    "Link of my work on the same is provided below:\n",
    "\n",
    "https://www.kaggle.com/neerajmohan/bidirectional-lstm-using-tensorflow-2-0\n"
   ]
  }
 ],
 "metadata": {
  "kernelspec": {
   "display_name": "Python 3",
   "language": "python",
   "name": "python3"
  },
  "language_info": {
   "codemirror_mode": {
    "name": "ipython",
    "version": 3
   },
   "file_extension": ".py",
   "mimetype": "text/x-python",
   "name": "python",
   "nbconvert_exporter": "python",
   "pygments_lexer": "ipython3",
   "version": "3.7.6"
  },
  "papermill": {
   "duration": 18.490117,
   "end_time": "2022-05-30T18:33:46.485630",
   "environment_variables": {},
   "exception": null,
   "input_path": "__notebook__.ipynb",
   "output_path": "__notebook__.ipynb",
   "parameters": {},
   "start_time": "2022-05-30T18:33:27.995513",
   "version": "2.1.0"
  }
 },
 "nbformat": 4,
 "nbformat_minor": 4
}